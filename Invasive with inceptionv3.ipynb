{
 "cells": [
  {
   "cell_type": "code",
   "execution_count": 54,
   "metadata": {
    "collapsed": true
   },
   "outputs": [],
   "source": [
    "import math"
   ]
  },
  {
   "cell_type": "code",
   "execution_count": 1,
   "metadata": {},
   "outputs": [
    {
     "name": "stderr",
     "output_type": "stream",
     "text": [
      "Using Theano backend.\n",
      "/usr/local/lib/python3.5/dist-packages/theano/gpuarray/dnn.py:135: UserWarning: Your cuDNN version is more recent than Theano. If you encounter problems, try updating Theano or downgrading cuDNN to version 5.1.\n",
      "  warnings.warn(\"Your cuDNN version is more recent than \"\n",
      "Using cuDNN version 6021 on context None\n",
      "Preallocating 3633/4037 Mb (0.900000) on cuda1\n",
      "Mapped name None to device cuda1: GeForce GTX 970 (0000:02:00.0)\n"
     ]
    }
   ],
   "source": [
    "from keras.applications.inception_v3 import InceptionV3\n",
    "from keras.layers import GlobalAveragePooling2D, Dense, Input\n",
    "from keras.models import Model\n",
    "from keras.preprocessing.image import ImageDataGenerator"
   ]
  },
  {
   "cell_type": "code",
   "execution_count": 2,
   "metadata": {
    "collapsed": true
   },
   "outputs": [],
   "source": [
    "input_tensor = Input(shape=(3, 300, 300))\n",
    "base_model = InceptionV3(weights='imagenet', include_top=False, \n",
    "                         input_tensor=input_tensor)"
   ]
  },
  {
   "cell_type": "code",
   "execution_count": 3,
   "metadata": {
    "collapsed": true
   },
   "outputs": [],
   "source": [
    "x = base_model.output\n",
    "x = GlobalAveragePooling2D()(x)\n",
    "x = Dense(1024, activation='relu')(x)\n",
    "predictions = Dense(2, activation='softmax')(x)"
   ]
  },
  {
   "cell_type": "code",
   "execution_count": 4,
   "metadata": {
    "collapsed": true
   },
   "outputs": [],
   "source": [
    "model = Model(inputs=base_model.input, outputs=predictions)"
   ]
  },
  {
   "cell_type": "code",
   "execution_count": 5,
   "metadata": {
    "collapsed": true
   },
   "outputs": [],
   "source": [
    "for layer in base_model.layers:\n",
    "    layer.trainable = False"
   ]
  },
  {
   "cell_type": "code",
   "execution_count": 6,
   "metadata": {
    "collapsed": true
   },
   "outputs": [],
   "source": [
    "model.compile(optimizer='rmsprop', loss='categorical_crossentropy', metrics=['accuracy'])"
   ]
  },
  {
   "cell_type": "code",
   "execution_count": 7,
   "metadata": {
    "collapsed": true
   },
   "outputs": [],
   "source": [
    "path = 'data/'"
   ]
  },
  {
   "cell_type": "code",
   "execution_count": 8,
   "metadata": {},
   "outputs": [
    {
     "name": "stdout",
     "output_type": "stream",
     "text": [
      "Found 2067 images belonging to 2 classes.\n",
      "Found 228 images belonging to 2 classes.\n"
     ]
    }
   ],
   "source": [
    "gen = ImageDataGenerator(horizontal_flip=True, height_shift_range=0.1, width_shift_range=0.1)\n",
    "batches = gen.flow_from_directory(path + 'train', target_size=(300, 300))\n",
    "valid_batches = gen.flow_from_directory(path + 'valid', target_size=(300, 300))"
   ]
  },
  {
   "cell_type": "code",
   "execution_count": 9,
   "metadata": {
    "collapsed": true
   },
   "outputs": [],
   "source": [
    "batch_size = 32"
   ]
  },
  {
   "cell_type": "code",
   "execution_count": 10,
   "metadata": {
    "collapsed": true
   },
   "outputs": [],
   "source": [
    "model.load_weights(path + 'inception.h5')"
   ]
  },
  {
   "cell_type": "code",
   "execution_count": 12,
   "metadata": {},
   "outputs": [
    {
     "name": "stdout",
     "output_type": "stream",
     "text": [
      "Epoch 1/15\n",
      "64/64 [==============================] - 47s - loss: 0.1897 - acc: 0.9329 - val_loss: 0.2044 - val_acc: 0.9031\n",
      "Epoch 2/15\n",
      "64/64 [==============================] - 42s - loss: 0.2029 - acc: 0.9215 - val_loss: 0.1785 - val_acc: 0.9592\n",
      "Epoch 3/15\n",
      "64/64 [==============================] - 42s - loss: 0.1867 - acc: 0.9311 - val_loss: 0.2061 - val_acc: 0.9235\n",
      "Epoch 4/15\n",
      "64/64 [==============================] - 42s - loss: 0.1513 - acc: 0.9438 - val_loss: 0.2044 - val_acc: 0.9439\n",
      "Epoch 5/15\n",
      "64/64 [==============================] - 42s - loss: 0.1675 - acc: 0.9391 - val_loss: 0.2357 - val_acc: 0.9031\n",
      "Epoch 6/15\n",
      "64/64 [==============================] - 42s - loss: 0.1926 - acc: 0.9341 - val_loss: 0.1716 - val_acc: 0.9490\n",
      "Epoch 7/15\n",
      "64/64 [==============================] - 42s - loss: 0.1663 - acc: 0.9375 - val_loss: 0.1408 - val_acc: 0.9439\n",
      "Epoch 8/15\n",
      "64/64 [==============================] - 42s - loss: 0.1568 - acc: 0.9391 - val_loss: 0.1723 - val_acc: 0.9439\n",
      "Epoch 9/15\n",
      "64/64 [==============================] - 42s - loss: 0.1730 - acc: 0.9300 - val_loss: 0.1285 - val_acc: 0.9490\n",
      "Epoch 10/15\n",
      "64/64 [==============================] - 42s - loss: 0.1684 - acc: 0.9342 - val_loss: 0.1611 - val_acc: 0.9439\n",
      "Epoch 11/15\n",
      "64/64 [==============================] - 42s - loss: 0.2040 - acc: 0.9308 - val_loss: 0.2128 - val_acc: 0.9337\n",
      "Epoch 12/15\n",
      "64/64 [==============================] - 42s - loss: 0.1249 - acc: 0.9437 - val_loss: 0.2012 - val_acc: 0.9286\n",
      "Epoch 13/15\n",
      "64/64 [==============================] - 42s - loss: 0.1608 - acc: 0.9420 - val_loss: 0.1520 - val_acc: 0.9031\n",
      "Epoch 14/15\n",
      "64/64 [==============================] - 42s - loss: 0.1640 - acc: 0.9391 - val_loss: 0.1804 - val_acc: 0.9286\n",
      "Epoch 15/15\n",
      "64/64 [==============================] - 42s - loss: 0.1484 - acc: 0.9433 - val_loss: 0.2358 - val_acc: 0.9133\n"
     ]
    },
    {
     "data": {
      "text/plain": [
       "<keras.callbacks.History at 0x7f9a3e8bd518>"
      ]
     },
     "execution_count": 12,
     "metadata": {},
     "output_type": "execute_result"
    }
   ],
   "source": [
    "model.fit_generator(batches, int(batches.samples/batch_size), \n",
    "                    epochs=15, validation_data=valid_batches, \n",
    "                    validation_steps=int(valid_batches.samples/batch_size))"
   ]
  },
  {
   "cell_type": "code",
   "execution_count": 11,
   "metadata": {
    "collapsed": true
   },
   "outputs": [],
   "source": [
    "for layer in model.layers[:249]:\n",
    "    layer.trainable = False\n",
    "\n",
    "for layer in model.layers[249:]:\n",
    "    layer.trainable = True"
   ]
  },
  {
   "cell_type": "code",
   "execution_count": 12,
   "metadata": {
    "collapsed": true
   },
   "outputs": [],
   "source": [
    "from keras.optimizers import SGD"
   ]
  },
  {
   "cell_type": "code",
   "execution_count": 13,
   "metadata": {
    "collapsed": true
   },
   "outputs": [],
   "source": [
    "model.compile(optimizer=SGD(lr=0.0001, momentum=0.9), loss='categorical_crossentropy', metrics=['accuracy'])"
   ]
  },
  {
   "cell_type": "code",
   "execution_count": 14,
   "metadata": {},
   "outputs": [
    {
     "name": "stdout",
     "output_type": "stream",
     "text": [
      "Epoch 1/30\n",
      "64/64 [==============================] - 126s - loss: 0.0420 - acc: 0.9854 - val_loss: 0.1710 - val_acc: 0.9554\n",
      "Epoch 2/30\n",
      "64/64 [==============================] - 41s - loss: 0.0461 - acc: 0.9810 - val_loss: 0.1420 - val_acc: 0.9490\n",
      "Epoch 3/30\n",
      "64/64 [==============================] - 43s - loss: 0.0414 - acc: 0.9878 - val_loss: 0.0924 - val_acc: 0.9592\n",
      "Epoch 4/30\n",
      "64/64 [==============================] - 43s - loss: 0.0386 - acc: 0.9878 - val_loss: 0.1715 - val_acc: 0.9388\n",
      "Epoch 5/30\n",
      "64/64 [==============================] - 43s - loss: 0.0365 - acc: 0.9873 - val_loss: 0.1653 - val_acc: 0.9541\n",
      "Epoch 6/30\n",
      "64/64 [==============================] - 43s - loss: 0.0393 - acc: 0.9863 - val_loss: 0.1289 - val_acc: 0.9541\n",
      "Epoch 7/30\n",
      "64/64 [==============================] - 43s - loss: 0.0456 - acc: 0.9854 - val_loss: 0.1398 - val_acc: 0.9541\n",
      "Epoch 8/30\n",
      "64/64 [==============================] - 43s - loss: 0.0434 - acc: 0.9870 - val_loss: 0.1719 - val_acc: 0.9541\n",
      "Epoch 9/30\n",
      "64/64 [==============================] - 42s - loss: 0.0399 - acc: 0.9863 - val_loss: 0.1638 - val_acc: 0.9439\n",
      "Epoch 10/30\n",
      "64/64 [==============================] - 43s - loss: 0.0308 - acc: 0.9897 - val_loss: 0.1933 - val_acc: 0.9541\n",
      "Epoch 11/30\n",
      "64/64 [==============================] - 43s - loss: 0.0324 - acc: 0.9891 - val_loss: 0.1176 - val_acc: 0.9592\n",
      "Epoch 12/30\n",
      "64/64 [==============================] - 42s - loss: 0.0420 - acc: 0.9824 - val_loss: 0.1843 - val_acc: 0.9490\n",
      "Epoch 13/30\n",
      "64/64 [==============================] - 43s - loss: 0.0368 - acc: 0.9873 - val_loss: 0.1866 - val_acc: 0.9388\n",
      "Epoch 14/30\n",
      "64/64 [==============================] - 43s - loss: 0.0240 - acc: 0.9941 - val_loss: 0.1155 - val_acc: 0.9490\n",
      "Epoch 15/30\n",
      "64/64 [==============================] - 43s - loss: 0.0323 - acc: 0.9888 - val_loss: 0.1505 - val_acc: 0.9439\n",
      "Epoch 16/30\n",
      "64/64 [==============================] - 43s - loss: 0.0294 - acc: 0.9909 - val_loss: 0.1491 - val_acc: 0.9592\n",
      "Epoch 17/30\n",
      "64/64 [==============================] - 43s - loss: 0.0328 - acc: 0.9893 - val_loss: 0.2297 - val_acc: 0.9541\n",
      "Epoch 18/30\n",
      "64/64 [==============================] - 43s - loss: 0.0350 - acc: 0.9873 - val_loss: 0.1467 - val_acc: 0.9439\n",
      "Epoch 19/30\n",
      "64/64 [==============================] - 43s - loss: 0.0309 - acc: 0.9917 - val_loss: 0.1357 - val_acc: 0.9643\n",
      "Epoch 20/30\n",
      "64/64 [==============================] - 43s - loss: 0.0335 - acc: 0.9902 - val_loss: 0.1050 - val_acc: 0.9490\n",
      "Epoch 21/30\n",
      "64/64 [==============================] - 43s - loss: 0.0355 - acc: 0.9858 - val_loss: 0.1569 - val_acc: 0.9694\n",
      "Epoch 22/30\n",
      "64/64 [==============================] - 43s - loss: 0.0337 - acc: 0.9868 - val_loss: 0.1542 - val_acc: 0.9439\n",
      "Epoch 23/30\n",
      "64/64 [==============================] - 43s - loss: 0.0338 - acc: 0.9863 - val_loss: 0.1644 - val_acc: 0.9439\n",
      "Epoch 24/30\n",
      "64/64 [==============================] - 43s - loss: 0.0275 - acc: 0.9922 - val_loss: 0.1852 - val_acc: 0.9337\n",
      "Epoch 25/30\n",
      "64/64 [==============================] - 43s - loss: 0.0422 - acc: 0.9844 - val_loss: 0.1658 - val_acc: 0.9388\n",
      "Epoch 26/30\n",
      "64/64 [==============================] - 43s - loss: 0.0283 - acc: 0.9893 - val_loss: 0.1673 - val_acc: 0.9439\n",
      "Epoch 27/30\n",
      "64/64 [==============================] - 43s - loss: 0.0379 - acc: 0.9868 - val_loss: 0.0933 - val_acc: 0.9694\n",
      "Epoch 28/30\n",
      "64/64 [==============================] - 43s - loss: 0.0253 - acc: 0.9941 - val_loss: 0.1403 - val_acc: 0.9745\n",
      "Epoch 29/30\n",
      "64/64 [==============================] - 43s - loss: 0.0337 - acc: 0.9873 - val_loss: 0.1498 - val_acc: 0.9439\n",
      "Epoch 30/30\n",
      "64/64 [==============================] - 43s - loss: 0.0304 - acc: 0.9897 - val_loss: 0.1263 - val_acc: 0.9541\n"
     ]
    },
    {
     "data": {
      "text/plain": [
       "<keras.callbacks.History at 0x7fcbefcd73c8>"
      ]
     },
     "execution_count": 14,
     "metadata": {},
     "output_type": "execute_result"
    }
   ],
   "source": [
    "model.fit_generator(batches, int(batches.samples/batch_size), \n",
    "                    epochs=30, validation_data=valid_batches, \n",
    "                    validation_steps=int(valid_batches.samples/batch_size))"
   ]
  },
  {
   "cell_type": "code",
   "execution_count": 19,
   "metadata": {
    "collapsed": true
   },
   "outputs": [],
   "source": [
    "model.save_weights(path + 'inception.h5')"
   ]
  },
  {
   "cell_type": "code",
   "execution_count": 15,
   "metadata": {
    "collapsed": true
   },
   "outputs": [],
   "source": [
    "for layer in model.layers[200:]:\n",
    "    layer.trainable = True"
   ]
  },
  {
   "cell_type": "code",
   "execution_count": 16,
   "metadata": {},
   "outputs": [
    {
     "name": "stdout",
     "output_type": "stream",
     "text": [
      "Epoch 1/30\n",
      "64/64 [==============================] - 47s - loss: 0.0305 - acc: 0.9888 - val_loss: 0.1131 - val_acc: 0.9643\n",
      "Epoch 2/30\n",
      "64/64 [==============================] - 43s - loss: 0.0271 - acc: 0.9897 - val_loss: 0.1421 - val_acc: 0.9490\n",
      "Epoch 3/30\n",
      "64/64 [==============================] - 43s - loss: 0.0254 - acc: 0.9907 - val_loss: 0.2074 - val_acc: 0.9184\n",
      "Epoch 4/30\n",
      "64/64 [==============================] - 43s - loss: 0.0292 - acc: 0.9894 - val_loss: 0.1431 - val_acc: 0.9592\n",
      "Epoch 5/30\n",
      "64/64 [==============================] - 43s - loss: 0.0356 - acc: 0.9878 - val_loss: 0.1929 - val_acc: 0.9541\n",
      "Epoch 6/30\n",
      "64/64 [==============================] - 43s - loss: 0.0292 - acc: 0.9902 - val_loss: 0.1083 - val_acc: 0.9388\n",
      "Epoch 7/30\n",
      "64/64 [==============================] - 43s - loss: 0.0244 - acc: 0.9907 - val_loss: 0.2337 - val_acc: 0.9439\n",
      "Epoch 8/30\n",
      "64/64 [==============================] - 43s - loss: 0.0281 - acc: 0.9897 - val_loss: 0.1267 - val_acc: 0.9643\n",
      "Epoch 9/30\n",
      "64/64 [==============================] - 42s - loss: 0.0244 - acc: 0.9914 - val_loss: 0.1248 - val_acc: 0.9643\n",
      "Epoch 10/30\n",
      "64/64 [==============================] - 43s - loss: 0.0274 - acc: 0.9888 - val_loss: 0.2088 - val_acc: 0.9541\n",
      "Epoch 11/30\n",
      "64/64 [==============================] - 42s - loss: 0.0213 - acc: 0.9917 - val_loss: 0.1462 - val_acc: 0.9592\n",
      "Epoch 12/30\n",
      "64/64 [==============================] - 42s - loss: 0.0296 - acc: 0.9907 - val_loss: 0.1466 - val_acc: 0.9541\n",
      "Epoch 13/30\n",
      "64/64 [==============================] - 42s - loss: 0.0331 - acc: 0.9891 - val_loss: 0.0823 - val_acc: 0.9643\n",
      "Epoch 14/30\n",
      "64/64 [==============================] - 42s - loss: 0.0292 - acc: 0.9912 - val_loss: 0.1044 - val_acc: 0.9643\n",
      "Epoch 15/30\n",
      "64/64 [==============================] - 43s - loss: 0.0236 - acc: 0.9937 - val_loss: 0.1316 - val_acc: 0.9541\n",
      "Epoch 16/30\n",
      "64/64 [==============================] - 43s - loss: 0.0230 - acc: 0.9896 - val_loss: 0.1839 - val_acc: 0.9439\n",
      "Epoch 17/30\n",
      "64/64 [==============================] - 43s - loss: 0.0262 - acc: 0.9906 - val_loss: 0.1433 - val_acc: 0.9592\n",
      "Epoch 18/30\n",
      "64/64 [==============================] - 42s - loss: 0.0197 - acc: 0.9941 - val_loss: 0.1220 - val_acc: 0.9439\n",
      "Epoch 19/30\n",
      "64/64 [==============================] - 43s - loss: 0.0263 - acc: 0.9901 - val_loss: 0.1013 - val_acc: 0.9643\n",
      "Epoch 20/30\n",
      "64/64 [==============================] - 43s - loss: 0.0246 - acc: 0.9922 - val_loss: 0.1888 - val_acc: 0.9388\n",
      "Epoch 21/30\n",
      "64/64 [==============================] - 43s - loss: 0.0263 - acc: 0.9923 - val_loss: 0.0703 - val_acc: 0.9796\n",
      "Epoch 22/30\n",
      "64/64 [==============================] - 43s - loss: 0.0177 - acc: 0.9946 - val_loss: 0.1556 - val_acc: 0.9592\n",
      "Epoch 23/30\n",
      "64/64 [==============================] - 43s - loss: 0.0285 - acc: 0.9899 - val_loss: 0.1104 - val_acc: 0.9694\n",
      "Epoch 24/30\n",
      "64/64 [==============================] - 43s - loss: 0.0268 - acc: 0.9912 - val_loss: 0.1558 - val_acc: 0.9388\n",
      "Epoch 25/30\n",
      "64/64 [==============================] - 43s - loss: 0.0224 - acc: 0.9946 - val_loss: 0.1844 - val_acc: 0.9388\n",
      "Epoch 26/30\n",
      "64/64 [==============================] - 42s - loss: 0.0220 - acc: 0.9927 - val_loss: 0.1847 - val_acc: 0.9439\n",
      "Epoch 27/30\n",
      "64/64 [==============================] - 43s - loss: 0.0229 - acc: 0.9946 - val_loss: 0.1897 - val_acc: 0.9286\n",
      "Epoch 28/30\n",
      "64/64 [==============================] - 43s - loss: 0.0258 - acc: 0.9889 - val_loss: 0.2068 - val_acc: 0.9541\n",
      "Epoch 29/30\n",
      "64/64 [==============================] - 43s - loss: 0.0253 - acc: 0.9906 - val_loss: 0.1399 - val_acc: 0.9541\n",
      "Epoch 30/30\n",
      "64/64 [==============================] - 43s - loss: 0.0302 - acc: 0.9893 - val_loss: 0.1871 - val_acc: 0.9439\n"
     ]
    },
    {
     "data": {
      "text/plain": [
       "<keras.callbacks.History at 0x7fcbecf7b5f8>"
      ]
     },
     "execution_count": 16,
     "metadata": {},
     "output_type": "execute_result"
    }
   ],
   "source": [
    "model.fit_generator(batches, int(batches.samples/batch_size), \n",
    "                    epochs=30, validation_data=valid_batches, \n",
    "                    validation_steps=int(valid_batches.samples/batch_size))"
   ]
  },
  {
   "cell_type": "code",
   "execution_count": 18,
   "metadata": {
    "collapsed": true
   },
   "outputs": [],
   "source": [
    "for layer in model.layers[100:]:\n",
    "    layer.trainable = True"
   ]
  },
  {
   "cell_type": "code",
   "execution_count": 20,
   "metadata": {},
   "outputs": [
    {
     "name": "stdout",
     "output_type": "stream",
     "text": [
      "Epoch 1/15\n",
      "64/64 [==============================] - 47s - loss: 0.0186 - acc: 0.9946 - val_loss: 0.2012 - val_acc: 0.9490\n",
      "Epoch 2/15\n",
      "64/64 [==============================] - 43s - loss: 0.0268 - acc: 0.9917 - val_loss: 0.1749 - val_acc: 0.9541\n",
      "Epoch 3/15\n",
      "64/64 [==============================] - 43s - loss: 0.0196 - acc: 0.9941 - val_loss: 0.0978 - val_acc: 0.9694\n",
      "Epoch 4/15\n",
      "64/64 [==============================] - 43s - loss: 0.0218 - acc: 0.9941 - val_loss: 0.1729 - val_acc: 0.9337\n",
      "Epoch 5/15\n",
      "64/64 [==============================] - 43s - loss: 0.0172 - acc: 0.9948 - val_loss: 0.1359 - val_acc: 0.9541\n",
      "Epoch 6/15\n",
      "64/64 [==============================] - 43s - loss: 0.0210 - acc: 0.9941 - val_loss: 0.1865 - val_acc: 0.9490\n",
      "Epoch 7/15\n",
      "64/64 [==============================] - 43s - loss: 0.0191 - acc: 0.9951 - val_loss: 0.1830 - val_acc: 0.9490\n",
      "Epoch 8/15\n",
      "64/64 [==============================] - 43s - loss: 0.0217 - acc: 0.9927 - val_loss: 0.1720 - val_acc: 0.9541\n",
      "Epoch 9/15\n",
      "64/64 [==============================] - 43s - loss: 0.0198 - acc: 0.9951 - val_loss: 0.1649 - val_acc: 0.9694\n",
      "Epoch 10/15\n",
      "64/64 [==============================] - 43s - loss: 0.0196 - acc: 0.9941 - val_loss: 0.1375 - val_acc: 0.9745\n",
      "Epoch 11/15\n",
      "64/64 [==============================] - 42s - loss: 0.0187 - acc: 0.9941 - val_loss: 0.1305 - val_acc: 0.9592\n",
      "Epoch 12/15\n",
      "64/64 [==============================] - 43s - loss: 0.0208 - acc: 0.9927 - val_loss: 0.0661 - val_acc: 0.9694\n",
      "Epoch 13/15\n",
      "64/64 [==============================] - 43s - loss: 0.0253 - acc: 0.9917 - val_loss: 0.0994 - val_acc: 0.9694\n",
      "Epoch 14/15\n",
      "64/64 [==============================] - 43s - loss: 0.0210 - acc: 0.9951 - val_loss: 0.1962 - val_acc: 0.9643\n",
      "Epoch 15/15\n",
      "64/64 [==============================] - 43s - loss: 0.0195 - acc: 0.9932 - val_loss: 0.0654 - val_acc: 0.9745\n"
     ]
    },
    {
     "data": {
      "text/plain": [
       "<keras.callbacks.History at 0x7fcbecf7b940>"
      ]
     },
     "execution_count": 20,
     "metadata": {},
     "output_type": "execute_result"
    }
   ],
   "source": [
    "model.fit_generator(batches, int(batches.samples/batch_size), \n",
    "                    epochs=15, validation_data=valid_batches, \n",
    "                    validation_steps=int(valid_batches.samples/batch_size))"
   ]
  },
  {
   "cell_type": "code",
   "execution_count": 21,
   "metadata": {
    "collapsed": true
   },
   "outputs": [],
   "source": [
    "model.save_weights(path + 'inception.h5')"
   ]
  },
  {
   "cell_type": "code",
   "execution_count": 53,
   "metadata": {
    "collapsed": true
   },
   "outputs": [],
   "source": [
    "for layer in model.layers[0:]:\n",
    "    layer.trainable = True"
   ]
  },
  {
   "cell_type": "code",
   "execution_count": 55,
   "metadata": {},
   "outputs": [
    {
     "name": "stdout",
     "output_type": "stream",
     "text": [
      "Epoch 1/15\n",
      "65/65 [==============================] - 49s - loss: 0.0229 - acc: 0.9915 - val_loss: 0.1651 - val_acc: 0.9649\n",
      "Epoch 2/15\n",
      "65/65 [==============================] - 43s - loss: 0.0334 - acc: 0.9883 - val_loss: 0.1018 - val_acc: 0.9693\n",
      "Epoch 3/15\n",
      "65/65 [==============================] - 44s - loss: 0.0249 - acc: 0.9920 - val_loss: 0.1194 - val_acc: 0.9518\n",
      "Epoch 4/15\n",
      "65/65 [==============================] - 43s - loss: 0.0194 - acc: 0.9928 - val_loss: 0.1832 - val_acc: 0.9474\n",
      "Epoch 5/15\n",
      "65/65 [==============================] - 44s - loss: 0.0159 - acc: 0.9937 - val_loss: 0.1447 - val_acc: 0.9518\n",
      "Epoch 6/15\n",
      "65/65 [==============================] - 43s - loss: 0.0171 - acc: 0.9947 - val_loss: 0.1304 - val_acc: 0.9693\n",
      "Epoch 7/15\n",
      "65/65 [==============================] - 43s - loss: 0.0263 - acc: 0.9934 - val_loss: 0.1593 - val_acc: 0.9649\n",
      "Epoch 8/15\n",
      "65/65 [==============================] - 43s - loss: 0.0190 - acc: 0.9937 - val_loss: 0.1434 - val_acc: 0.9605\n",
      "Epoch 9/15\n",
      "65/65 [==============================] - 43s - loss: 0.0202 - acc: 0.9942 - val_loss: 0.0835 - val_acc: 0.9605\n",
      "Epoch 10/15\n",
      "65/65 [==============================] - 43s - loss: 0.0167 - acc: 0.9942 - val_loss: 0.0864 - val_acc: 0.9781\n",
      "Epoch 11/15\n",
      "65/65 [==============================] - 43s - loss: 0.0192 - acc: 0.9947 - val_loss: 0.1214 - val_acc: 0.9693\n",
      "Epoch 12/15\n",
      "65/65 [==============================] - 43s - loss: 0.0231 - acc: 0.9918 - val_loss: 0.1222 - val_acc: 0.9474\n",
      "Epoch 13/15\n",
      "65/65 [==============================] - 43s - loss: 0.0183 - acc: 0.9942 - val_loss: 0.1832 - val_acc: 0.9561\n",
      "Epoch 14/15\n",
      "65/65 [==============================] - 43s - loss: 0.0163 - acc: 0.9942 - val_loss: 0.1393 - val_acc: 0.9693\n",
      "Epoch 15/15\n",
      "65/65 [==============================] - 43s - loss: 0.0214 - acc: 0.9933 - val_loss: 0.1617 - val_acc: 0.9561\n"
     ]
    },
    {
     "data": {
      "text/plain": [
       "<keras.callbacks.History at 0x7fcbecfac5f8>"
      ]
     },
     "execution_count": 55,
     "metadata": {},
     "output_type": "execute_result"
    }
   ],
   "source": [
    "model.fit_generator(batches, math.ceil(batches.samples/batch_size), \n",
    "                    epochs=15, validation_data=valid_batches, \n",
    "                    validation_steps=math.ceil(valid_batches.samples/batch_size))"
   ]
  },
  {
   "cell_type": "markdown",
   "metadata": {},
   "source": [
    "## Create submission"
   ]
  },
  {
   "cell_type": "code",
   "execution_count": 45,
   "metadata": {
    "collapsed": true
   },
   "outputs": [],
   "source": [
    "import math\n",
    "import os\n",
    "import numpy as np\n",
    "from glob import glob"
   ]
  },
  {
   "cell_type": "code",
   "execution_count": 28,
   "metadata": {},
   "outputs": [
    {
     "name": "stdout",
     "output_type": "stream",
     "text": [
      "/home/aaron/Documents/invasive-species/data/test\n"
     ]
    }
   ],
   "source": [
    "%cd data/test/\n",
    "%mkdir unknown/"
   ]
  },
  {
   "cell_type": "code",
   "execution_count": 32,
   "metadata": {},
   "outputs": [],
   "source": [
    "g = glob('*.jpg')\n",
    "for img in g:\n",
    "    os.rename(img, 'unknown/' + img)"
   ]
  },
  {
   "cell_type": "code",
   "execution_count": 34,
   "metadata": {},
   "outputs": [
    {
     "name": "stdout",
     "output_type": "stream",
     "text": [
      "/home/aaron/Documents/invasive-species\n"
     ]
    }
   ],
   "source": [
    "%cd ../.."
   ]
  },
  {
   "cell_type": "code",
   "execution_count": 46,
   "metadata": {},
   "outputs": [
    {
     "name": "stdout",
     "output_type": "stream",
     "text": [
      "Found 1531 images belonging to 1 classes.\n"
     ]
    }
   ],
   "source": [
    "test_batches = ImageDataGenerator().flow_from_directory(path + 'test', \n",
    "                                                        shuffle=False, \n",
    "                                                        batch_size=batch_size,\n",
    "                                                        class_mode=None,\n",
    "                                                        target_size=(300, 300))\n",
    "preds = model.predict_generator(test_batches, math.ceil(test_batches.samples/batch_size))\n",
    "filenames = test_batches.filenames\n",
    "indices = [name[8:name.find('.')] for name in filenames]"
   ]
  },
  {
   "cell_type": "code",
   "execution_count": 47,
   "metadata": {},
   "outputs": [],
   "source": [
    "subm = np.stack([indices, preds[:,1]], axis=1)"
   ]
  },
  {
   "cell_type": "code",
   "execution_count": 52,
   "metadata": {},
   "outputs": [],
   "source": [
    "np.savetxt('data/preds.csv', subm, header='name,invasive', comments='', fmt='%s,%s')"
   ]
  },
  {
   "cell_type": "code",
   "execution_count": null,
   "metadata": {
    "collapsed": true
   },
   "outputs": [],
   "source": []
  }
 ],
 "metadata": {
  "kernelspec": {
   "display_name": "Python 3",
   "language": "python",
   "name": "python3"
  },
  "language_info": {
   "codemirror_mode": {
    "name": "ipython",
    "version": 3
   },
   "file_extension": ".py",
   "mimetype": "text/x-python",
   "name": "python",
   "nbconvert_exporter": "python",
   "pygments_lexer": "ipython3",
   "version": "3.5.2"
  }
 },
 "nbformat": 4,
 "nbformat_minor": 2
}
