{
 "cells": [
  {
   "cell_type": "code",
   "execution_count": 1,
   "metadata": {},
   "outputs": [
    {
     "name": "stderr",
     "output_type": "stream",
     "text": [
      "Using Theano backend.\n",
      "/usr/local/lib/python3.5/dist-packages/theano/gpuarray/dnn.py:135: UserWarning: Your cuDNN version is more recent than Theano. If you encounter problems, try updating Theano or downgrading cuDNN to version 5.1.\n",
      "  warnings.warn(\"Your cuDNN version is more recent than \"\n",
      "Using cuDNN version 6021 on context None\n",
      "Preallocating 3633/4037 Mb (0.900000) on cuda1\n",
      "Mapped name None to device cuda1: GeForce GTX 970 (0000:02:00.0)\n"
     ]
    }
   ],
   "source": [
    "from keras.applications.inception_v3 import InceptionV3\n",
    "from keras.layers import GlobalAveragePooling2D, Dense, Input\n",
    "from keras.models import Model\n",
    "from keras.preprocessing.image import ImageDataGenerator"
   ]
  },
  {
   "cell_type": "code",
   "execution_count": 2,
   "metadata": {
    "collapsed": true
   },
   "outputs": [],
   "source": [
    "input_tensor = Input(shape=(3, 256, 256))\n",
    "base_model = InceptionV3(weights='imagenet', include_top=False, \n",
    "                         input_tensor=input_tensor)"
   ]
  },
  {
   "cell_type": "code",
   "execution_count": 3,
   "metadata": {
    "collapsed": true
   },
   "outputs": [],
   "source": [
    "x = base_model.output\n",
    "x = GlobalAveragePooling2D()(x)\n",
    "x = Dense(1024, activation='relu')(x)\n",
    "predictions = Dense(2, activation='softmax')(x)"
   ]
  },
  {
   "cell_type": "code",
   "execution_count": 4,
   "metadata": {
    "collapsed": true
   },
   "outputs": [],
   "source": [
    "model = Model(inputs=base_model.input, outputs=predictions)"
   ]
  },
  {
   "cell_type": "code",
   "execution_count": 5,
   "metadata": {
    "collapsed": true
   },
   "outputs": [],
   "source": [
    "for layer in base_model.layers:\n",
    "    layer.trainable = False"
   ]
  },
  {
   "cell_type": "code",
   "execution_count": 6,
   "metadata": {
    "collapsed": true
   },
   "outputs": [],
   "source": [
    "model.compile(optimizer='rmsprop', loss='categorical_crossentropy', metrics=['accuracy'])"
   ]
  },
  {
   "cell_type": "code",
   "execution_count": 7,
   "metadata": {
    "collapsed": true
   },
   "outputs": [],
   "source": [
    "path = 'data/'"
   ]
  },
  {
   "cell_type": "code",
   "execution_count": 8,
   "metadata": {},
   "outputs": [
    {
     "name": "stdout",
     "output_type": "stream",
     "text": [
      "Found 2067 images belonging to 2 classes.\n",
      "Found 228 images belonging to 2 classes.\n"
     ]
    }
   ],
   "source": [
    "gen = ImageDataGenerator()\n",
    "batches = gen.flow_from_directory(path + 'train')\n",
    "valid_batches = gen.flow_from_directory(path + 'valid')"
   ]
  },
  {
   "cell_type": "code",
   "execution_count": 9,
   "metadata": {
    "collapsed": true
   },
   "outputs": [],
   "source": [
    "batch_size = 32"
   ]
  },
  {
   "cell_type": "code",
   "execution_count": 14,
   "metadata": {},
   "outputs": [
    {
     "name": "stdout",
     "output_type": "stream",
     "text": [
      "Epoch 1/15\n",
      "64/64 [==============================] - 30s - loss: 0.1881 - acc: 0.9261 - val_loss: 0.2374 - val_acc: 0.8980\n",
      "Epoch 2/15\n",
      "64/64 [==============================] - 27s - loss: 0.1718 - acc: 0.9370 - val_loss: 0.2985 - val_acc: 0.8622\n",
      "Epoch 3/15\n",
      "64/64 [==============================] - 26s - loss: 0.1703 - acc: 0.9302 - val_loss: 0.3122 - val_acc: 0.8878\n",
      "Epoch 4/15\n",
      "64/64 [==============================] - 27s - loss: 0.1561 - acc: 0.9337 - val_loss: 0.2926 - val_acc: 0.8929\n",
      "Epoch 5/15\n",
      "64/64 [==============================] - 26s - loss: 0.1870 - acc: 0.9311 - val_loss: 0.2603 - val_acc: 0.9286\n",
      "Epoch 6/15\n",
      "64/64 [==============================] - 26s - loss: 0.1605 - acc: 0.9425 - val_loss: 0.2026 - val_acc: 0.9031\n",
      "Epoch 7/15\n",
      "64/64 [==============================] - 26s - loss: 0.1526 - acc: 0.9390 - val_loss: 0.2972 - val_acc: 0.8827\n",
      "Epoch 8/15\n",
      "64/64 [==============================] - 26s - loss: 0.1379 - acc: 0.9406 - val_loss: 0.3505 - val_acc: 0.8827\n",
      "Epoch 9/15\n",
      "64/64 [==============================] - 26s - loss: 0.1464 - acc: 0.9390 - val_loss: 0.2307 - val_acc: 0.9133\n",
      "Epoch 10/15\n",
      "64/64 [==============================] - 26s - loss: 0.1428 - acc: 0.9398 - val_loss: 0.2495 - val_acc: 0.8929\n",
      "Epoch 11/15\n",
      "64/64 [==============================] - 26s - loss: 0.1415 - acc: 0.9451 - val_loss: 0.2038 - val_acc: 0.9082\n",
      "Epoch 12/15\n",
      "64/64 [==============================] - 26s - loss: 0.1265 - acc: 0.9530 - val_loss: 0.3073 - val_acc: 0.9082\n",
      "Epoch 13/15\n",
      "64/64 [==============================] - 26s - loss: 0.1154 - acc: 0.9556 - val_loss: 0.3268 - val_acc: 0.8929\n",
      "Epoch 14/15\n",
      "64/64 [==============================] - 26s - loss: 0.1288 - acc: 0.9513 - val_loss: 0.3951 - val_acc: 0.8724\n",
      "Epoch 15/15\n",
      "64/64 [==============================] - 26s - loss: 0.1206 - acc: 0.9547 - val_loss: 0.2434 - val_acc: 0.9184\n"
     ]
    },
    {
     "data": {
      "text/plain": [
       "<keras.callbacks.History at 0x7f2c32651780>"
      ]
     },
     "execution_count": 14,
     "metadata": {},
     "output_type": "execute_result"
    }
   ],
   "source": [
    "model.fit_generator(batches, int(batches.samples/batch_size), \n",
    "                    epochs=15, validation_data=valid_batches, \n",
    "                    validation_steps=int(valid_batches.samples/batch_size))"
   ]
  },
  {
   "cell_type": "code",
   "execution_count": 15,
   "metadata": {
    "collapsed": true
   },
   "outputs": [],
   "source": [
    "for layer in model.layers[:249]:\n",
    "    layer.trainable = False\n",
    "\n",
    "for layer in model.layers[249:]:\n",
    "    layer.trainable = True"
   ]
  },
  {
   "cell_type": "code",
   "execution_count": 16,
   "metadata": {
    "collapsed": true
   },
   "outputs": [],
   "source": [
    "from keras.optimizers import SGD"
   ]
  },
  {
   "cell_type": "code",
   "execution_count": 17,
   "metadata": {
    "collapsed": true
   },
   "outputs": [],
   "source": [
    "model.compile(optimizer=SGD(lr=0.0001, momentum=0.9), loss='categorical_crossentropy', metrics=['accuracy'])"
   ]
  },
  {
   "cell_type": "code",
   "execution_count": 18,
   "metadata": {},
   "outputs": [
    {
     "name": "stdout",
     "output_type": "stream",
     "text": [
      "Epoch 1/30\n",
      "64/64 [==============================] - 30s - loss: 0.0593 - acc: 0.9824 - val_loss: 0.2046 - val_acc: 0.9184\n",
      "Epoch 2/30\n",
      "64/64 [==============================] - 27s - loss: 0.0586 - acc: 0.9785 - val_loss: 0.1878 - val_acc: 0.9235\n",
      "Epoch 3/30\n",
      "64/64 [==============================] - 27s - loss: 0.0502 - acc: 0.9839 - val_loss: 0.2385 - val_acc: 0.9082\n",
      "Epoch 4/30\n",
      "64/64 [==============================] - 27s - loss: 0.0474 - acc: 0.9868 - val_loss: 0.2347 - val_acc: 0.9082\n",
      "Epoch 5/30\n",
      "64/64 [==============================] - 27s - loss: 0.0428 - acc: 0.9893 - val_loss: 0.2450 - val_acc: 0.9031\n",
      "Epoch 6/30\n",
      "64/64 [==============================] - 27s - loss: 0.0562 - acc: 0.9810 - val_loss: 0.1798 - val_acc: 0.9235\n",
      "Epoch 7/30\n",
      "64/64 [==============================] - 27s - loss: 0.0408 - acc: 0.9897 - val_loss: 0.2470 - val_acc: 0.9184\n",
      "Epoch 8/30\n",
      "64/64 [==============================] - 27s - loss: 0.0366 - acc: 0.9912 - val_loss: 0.2099 - val_acc: 0.9286\n",
      "Epoch 9/30\n",
      "64/64 [==============================] - 27s - loss: 0.0323 - acc: 0.9899 - val_loss: 0.2642 - val_acc: 0.9082\n",
      "Epoch 10/30\n",
      "64/64 [==============================] - 27s - loss: 0.0330 - acc: 0.9917 - val_loss: 0.1877 - val_acc: 0.9235\n",
      "Epoch 11/30\n",
      "64/64 [==============================] - 27s - loss: 0.0316 - acc: 0.9932 - val_loss: 0.2293 - val_acc: 0.9184\n",
      "Epoch 12/30\n",
      "64/64 [==============================] - 27s - loss: 0.0336 - acc: 0.9917 - val_loss: 0.2300 - val_acc: 0.9235\n",
      "Epoch 13/30\n",
      "64/64 [==============================] - 27s - loss: 0.0300 - acc: 0.9946 - val_loss: 0.2341 - val_acc: 0.9184\n",
      "Epoch 14/30\n",
      "64/64 [==============================] - 27s - loss: 0.0280 - acc: 0.9923 - val_loss: 0.2217 - val_acc: 0.9133\n",
      "Epoch 15/30\n",
      "64/64 [==============================] - 27s - loss: 0.0279 - acc: 0.9945 - val_loss: 0.2247 - val_acc: 0.9337\n",
      "Epoch 16/30\n",
      "64/64 [==============================] - 27s - loss: 0.0328 - acc: 0.9919 - val_loss: 0.2564 - val_acc: 0.9082\n",
      "Epoch 17/30\n",
      "64/64 [==============================] - 27s - loss: 0.0268 - acc: 0.9940 - val_loss: 0.2442 - val_acc: 0.9133\n",
      "Epoch 18/30\n",
      "64/64 [==============================] - 27s - loss: 0.0227 - acc: 0.9958 - val_loss: 0.2096 - val_acc: 0.9235\n",
      "Epoch 19/30\n",
      "64/64 [==============================] - 27s - loss: 0.0231 - acc: 0.9927 - val_loss: 0.2149 - val_acc: 0.9235\n",
      "Epoch 20/30\n",
      "64/64 [==============================] - 27s - loss: 0.0243 - acc: 0.9937 - val_loss: 0.2394 - val_acc: 0.9133\n",
      "Epoch 21/30\n",
      "64/64 [==============================] - 27s - loss: 0.0215 - acc: 0.9951 - val_loss: 0.2395 - val_acc: 0.9133\n",
      "Epoch 22/30\n",
      "64/64 [==============================] - 27s - loss: 0.0222 - acc: 0.9940 - val_loss: 0.2567 - val_acc: 0.9133\n",
      "Epoch 23/30\n",
      "64/64 [==============================] - 27s - loss: 0.0253 - acc: 0.9922 - val_loss: 0.2421 - val_acc: 0.9286\n",
      "Epoch 24/30\n",
      "64/64 [==============================] - 27s - loss: 0.0172 - acc: 0.9966 - val_loss: 0.2369 - val_acc: 0.9133\n",
      "Epoch 25/30\n",
      "64/64 [==============================] - 27s - loss: 0.0174 - acc: 0.9951 - val_loss: 0.2105 - val_acc: 0.9235\n",
      "Epoch 26/30\n",
      "64/64 [==============================] - 27s - loss: 0.0214 - acc: 0.9946 - val_loss: 0.2451 - val_acc: 0.9235\n",
      "Epoch 27/30\n",
      "64/64 [==============================] - 27s - loss: 0.0194 - acc: 0.9971 - val_loss: 0.2393 - val_acc: 0.9235\n",
      "Epoch 28/30\n",
      "64/64 [==============================] - 27s - loss: 0.0180 - acc: 0.9948 - val_loss: 0.1862 - val_acc: 0.9184\n",
      "Epoch 29/30\n",
      "64/64 [==============================] - 27s - loss: 0.0161 - acc: 0.9985 - val_loss: 0.2565 - val_acc: 0.9133\n",
      "Epoch 30/30\n",
      "64/64 [==============================] - 27s - loss: 0.0138 - acc: 0.9971 - val_loss: 0.2299 - val_acc: 0.9082\n"
     ]
    },
    {
     "data": {
      "text/plain": [
       "<keras.callbacks.History at 0x7f2c34b4ab70>"
      ]
     },
     "execution_count": 18,
     "metadata": {},
     "output_type": "execute_result"
    }
   ],
   "source": [
    "model.fit_generator(batches, int(batches.samples/batch_size), \n",
    "                    epochs=30, validation_data=valid_batches, \n",
    "                    validation_steps=int(valid_batches.samples/batch_size))"
   ]
  },
  {
   "cell_type": "code",
   "execution_count": null,
   "metadata": {
    "collapsed": true
   },
   "outputs": [],
   "source": [
    "model.save_weights(path + 'inception.h5')"
   ]
  }
 ],
 "metadata": {
  "kernelspec": {
   "display_name": "Python 3",
   "language": "python",
   "name": "python3"
  },
  "language_info": {
   "codemirror_mode": {
    "name": "ipython",
    "version": 3
   },
   "file_extension": ".py",
   "mimetype": "text/x-python",
   "name": "python",
   "nbconvert_exporter": "python",
   "pygments_lexer": "ipython3",
   "version": "3.5.2"
  }
 },
 "nbformat": 4,
 "nbformat_minor": 2
}
