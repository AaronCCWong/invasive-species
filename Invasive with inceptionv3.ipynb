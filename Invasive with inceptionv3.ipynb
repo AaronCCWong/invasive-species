{
 "cells": [
  {
   "cell_type": "code",
   "execution_count": 1,
   "metadata": {
    "collapsed": true
   },
   "outputs": [],
   "source": [
    "import math"
   ]
  },
  {
   "cell_type": "code",
   "execution_count": 2,
   "metadata": {},
   "outputs": [
    {
     "name": "stderr",
     "output_type": "stream",
     "text": [
      "Using Theano backend.\n",
      "/usr/local/lib/python3.5/dist-packages/theano/gpuarray/dnn.py:135: UserWarning: Your cuDNN version is more recent than Theano. If you encounter problems, try updating Theano or downgrading cuDNN to version 5.1.\n",
      "  warnings.warn(\"Your cuDNN version is more recent than \"\n",
      "Using cuDNN version 6021 on context None\n",
      "Preallocating 3633/4037 Mb (0.900000) on cuda1\n",
      "Mapped name None to device cuda1: GeForce GTX 970 (0000:02:00.0)\n"
     ]
    }
   ],
   "source": [
    "from keras.applications.inception_v3 import InceptionV3\n",
    "from keras.layers import GlobalAveragePooling2D, Dense, Input\n",
    "from keras.models import Model\n",
    "from keras.preprocessing.image import ImageDataGenerator"
   ]
  },
  {
   "cell_type": "code",
   "execution_count": 3,
   "metadata": {
    "collapsed": true
   },
   "outputs": [],
   "source": [
    "input_tensor = Input(shape=(3, 400, 400))\n",
    "base_model = InceptionV3(weights='imagenet', include_top=False, \n",
    "                         input_tensor=input_tensor)"
   ]
  },
  {
   "cell_type": "code",
   "execution_count": 4,
   "metadata": {
    "collapsed": true
   },
   "outputs": [],
   "source": [
    "x = base_model.output\n",
    "x = GlobalAveragePooling2D()(x)\n",
    "x = Dense(1024, activation='relu')(x)\n",
    "predictions = Dense(2, activation='softmax')(x)"
   ]
  },
  {
   "cell_type": "code",
   "execution_count": 5,
   "metadata": {
    "collapsed": true
   },
   "outputs": [],
   "source": [
    "model = Model(inputs=base_model.input, outputs=predictions)"
   ]
  },
  {
   "cell_type": "code",
   "execution_count": 6,
   "metadata": {
    "collapsed": true
   },
   "outputs": [],
   "source": [
    "for layer in base_model.layers:\n",
    "    layer.trainable = False"
   ]
  },
  {
   "cell_type": "code",
   "execution_count": 7,
   "metadata": {
    "collapsed": true
   },
   "outputs": [],
   "source": [
    "model.compile(optimizer='rmsprop', loss='categorical_crossentropy', metrics=['accuracy'])"
   ]
  },
  {
   "cell_type": "code",
   "execution_count": 8,
   "metadata": {
    "collapsed": true
   },
   "outputs": [],
   "source": [
    "path = 'data/'"
   ]
  },
  {
   "cell_type": "code",
   "execution_count": 9,
   "metadata": {},
   "outputs": [
    {
     "name": "stdout",
     "output_type": "stream",
     "text": [
      "Found 2067 images belonging to 2 classes.\n",
      "Found 228 images belonging to 2 classes.\n"
     ]
    }
   ],
   "source": [
    "gen = ImageDataGenerator(horizontal_flip=True, height_shift_range=0.1, \n",
    "                         width_shift_range=0.1, rotation_range=10)\n",
    "batches = gen.flow_from_directory(path + 'train', target_size=(400, 400))\n",
    "valid_batches = gen.flow_from_directory(path + 'valid', target_size=(400, 400))"
   ]
  },
  {
   "cell_type": "code",
   "execution_count": 10,
   "metadata": {
    "collapsed": true
   },
   "outputs": [],
   "source": [
    "batch_size = 32"
   ]
  },
  {
   "cell_type": "code",
   "execution_count": 11,
   "metadata": {
    "collapsed": true
   },
   "outputs": [],
   "source": [
    "model.load_weights(path + 'inception.h5')"
   ]
  },
  {
   "cell_type": "code",
   "execution_count": 12,
   "metadata": {},
   "outputs": [
    {
     "name": "stdout",
     "output_type": "stream",
     "text": [
      "Epoch 1/15\n",
      "65/65 [==============================] - 67s - loss: 0.1296 - acc: 0.9612 - val_loss: 0.3729 - val_acc: 0.9123\n",
      "Epoch 2/15\n",
      "65/65 [==============================] - 55s - loss: 0.0952 - acc: 0.9654 - val_loss: 0.1772 - val_acc: 0.9561\n",
      "Epoch 3/15\n",
      "65/65 [==============================] - 60s - loss: 0.1395 - acc: 0.9543 - val_loss: 0.1491 - val_acc: 0.9561\n",
      "Epoch 4/15\n",
      "65/65 [==============================] - 58s - loss: 0.1220 - acc: 0.9591 - val_loss: 0.2003 - val_acc: 0.9430\n",
      "Epoch 5/15\n",
      "65/65 [==============================] - 59s - loss: 0.1303 - acc: 0.9551 - val_loss: 0.6413 - val_acc: 0.8553\n",
      "Epoch 6/15\n",
      "65/65 [==============================] - 54s - loss: 0.1089 - acc: 0.9615 - val_loss: 0.2045 - val_acc: 0.9430\n",
      "Epoch 7/15\n",
      "65/65 [==============================] - 55s - loss: 0.1226 - acc: 0.9611 - val_loss: 0.0749 - val_acc: 0.9737\n",
      "Epoch 8/15\n",
      "65/65 [==============================] - 59s - loss: 0.1096 - acc: 0.9554 - val_loss: 0.1083 - val_acc: 0.9649\n",
      "Epoch 9/15\n",
      "65/65 [==============================] - 58s - loss: 0.1121 - acc: 0.9602 - val_loss: 0.1562 - val_acc: 0.9649\n",
      "Epoch 10/15\n",
      "65/65 [==============================] - 54s - loss: 0.1065 - acc: 0.9612 - val_loss: 0.1451 - val_acc: 0.9474\n",
      "Epoch 11/15\n",
      "65/65 [==============================] - 55s - loss: 0.1201 - acc: 0.9572 - val_loss: 0.1090 - val_acc: 0.9605\n",
      "Epoch 12/15\n",
      "65/65 [==============================] - 59s - loss: 0.0929 - acc: 0.9655 - val_loss: 0.2177 - val_acc: 0.9167\n",
      "Epoch 13/15\n",
      "65/65 [==============================] - 58s - loss: 0.0909 - acc: 0.9694 - val_loss: 0.1996 - val_acc: 0.9649\n",
      "Epoch 14/15\n",
      "65/65 [==============================] - 59s - loss: 0.1170 - acc: 0.9663 - val_loss: 0.0911 - val_acc: 0.9605\n",
      "Epoch 15/15\n",
      "65/65 [==============================] - 54s - loss: 0.1094 - acc: 0.9562 - val_loss: 0.1609 - val_acc: 0.9561\n"
     ]
    },
    {
     "data": {
      "text/plain": [
       "<keras.callbacks.History at 0x7f684bfec080>"
      ]
     },
     "execution_count": 12,
     "metadata": {},
     "output_type": "execute_result"
    }
   ],
   "source": [
    "model.fit_generator(batches, math.ceil(batches.samples/batch_size), \n",
    "                    epochs=15, validation_data=valid_batches, \n",
    "                    validation_steps=math.ceil(valid_batches.samples/batch_size))"
   ]
  },
  {
   "cell_type": "code",
   "execution_count": 13,
   "metadata": {
    "collapsed": true
   },
   "outputs": [],
   "source": [
    "for layer in model.layers[:249]:\n",
    "    layer.trainable = False\n",
    "\n",
    "for layer in model.layers[249:]:\n",
    "    layer.trainable = True"
   ]
  },
  {
   "cell_type": "code",
   "execution_count": 14,
   "metadata": {
    "collapsed": true
   },
   "outputs": [],
   "source": [
    "from keras.optimizers import SGD"
   ]
  },
  {
   "cell_type": "code",
   "execution_count": 15,
   "metadata": {
    "collapsed": true
   },
   "outputs": [],
   "source": [
    "model.compile(optimizer=SGD(lr=0.0001, momentum=0.9), loss='categorical_crossentropy', metrics=['accuracy'])"
   ]
  },
  {
   "cell_type": "code",
   "execution_count": 16,
   "metadata": {},
   "outputs": [
    {
     "name": "stdout",
     "output_type": "stream",
     "text": [
      "Epoch 1/15\n",
      "64/64 [==============================] - 62s - loss: 0.0565 - acc: 0.9780 - val_loss: 0.0787 - val_acc: 0.9796\n",
      "Epoch 2/15\n",
      "64/64 [==============================] - 55s - loss: 0.0698 - acc: 0.9753 - val_loss: 0.1202 - val_acc: 0.9541\n",
      "Epoch 3/15\n",
      "64/64 [==============================] - 55s - loss: 0.0379 - acc: 0.9844 - val_loss: 0.1186 - val_acc: 0.9490\n",
      "Epoch 4/15\n",
      "64/64 [==============================] - 55s - loss: 0.0513 - acc: 0.9811 - val_loss: 0.1266 - val_acc: 0.9847\n",
      "Epoch 5/15\n",
      "64/64 [==============================] - 55s - loss: 0.0477 - acc: 0.9810 - val_loss: 0.1964 - val_acc: 0.9643\n",
      "Epoch 6/15\n",
      "64/64 [==============================] - 55s - loss: 0.0323 - acc: 0.9873 - val_loss: 0.0955 - val_acc: 0.9541\n",
      "Epoch 7/15\n",
      "64/64 [==============================] - 55s - loss: 0.0352 - acc: 0.9849 - val_loss: 0.0710 - val_acc: 0.9898\n",
      "Epoch 8/15\n",
      "64/64 [==============================] - 55s - loss: 0.0453 - acc: 0.9819 - val_loss: 0.0985 - val_acc: 0.9694\n",
      "Epoch 9/15\n",
      "64/64 [==============================] - 54s - loss: 0.0429 - acc: 0.9810 - val_loss: 0.1890 - val_acc: 0.9388\n",
      "Epoch 10/15\n",
      "64/64 [==============================] - 56s - loss: 0.0382 - acc: 0.9858 - val_loss: 0.1253 - val_acc: 0.9592\n",
      "Epoch 11/15\n",
      "64/64 [==============================] - 55s - loss: 0.0482 - acc: 0.9818 - val_loss: 0.1449 - val_acc: 0.9490\n",
      "Epoch 12/15\n",
      "64/64 [==============================] - 55s - loss: 0.0306 - acc: 0.9883 - val_loss: 0.1254 - val_acc: 0.9643\n",
      "Epoch 13/15\n",
      "64/64 [==============================] - 55s - loss: 0.0350 - acc: 0.9878 - val_loss: 0.2154 - val_acc: 0.9490\n",
      "Epoch 14/15\n",
      "64/64 [==============================] - 55s - loss: 0.0483 - acc: 0.9840 - val_loss: 0.2211 - val_acc: 0.9541\n",
      "Epoch 15/15\n",
      "64/64 [==============================] - 55s - loss: 0.0306 - acc: 0.9909 - val_loss: 0.0736 - val_acc: 0.9745\n"
     ]
    },
    {
     "data": {
      "text/plain": [
       "<keras.callbacks.History at 0x7f68418e0160>"
      ]
     },
     "execution_count": 16,
     "metadata": {},
     "output_type": "execute_result"
    }
   ],
   "source": [
    "model.fit_generator(batches, int(batches.samples/batch_size), \n",
    "                    epochs=15, validation_data=valid_batches, \n",
    "                    validation_steps=int(valid_batches.samples/batch_size))"
   ]
  },
  {
   "cell_type": "code",
   "execution_count": 17,
   "metadata": {
    "collapsed": true
   },
   "outputs": [],
   "source": [
    "model.save_weights(path + 'inception.h5')"
   ]
  },
  {
   "cell_type": "code",
   "execution_count": 18,
   "metadata": {
    "collapsed": true
   },
   "outputs": [],
   "source": [
    "for layer in model.layers[200:]:\n",
    "    layer.trainable = True"
   ]
  },
  {
   "cell_type": "code",
   "execution_count": 19,
   "metadata": {},
   "outputs": [
    {
     "name": "stdout",
     "output_type": "stream",
     "text": [
      "Epoch 1/15\n",
      "65/65 [==============================] - 63s - loss: 0.0280 - acc: 0.9913 - val_loss: 0.1964 - val_acc: 0.9561\n",
      "Epoch 2/15\n",
      "65/65 [==============================] - 56s - loss: 0.0456 - acc: 0.9814 - val_loss: 0.1474 - val_acc: 0.9649\n",
      "Epoch 3/15\n",
      "65/65 [==============================] - 56s - loss: 0.0331 - acc: 0.9885 - val_loss: 0.1233 - val_acc: 0.9561\n",
      "Epoch 4/15\n",
      "65/65 [==============================] - 56s - loss: 0.0331 - acc: 0.9894 - val_loss: 0.1717 - val_acc: 0.9561\n",
      "Epoch 5/15\n",
      "65/65 [==============================] - 56s - loss: 0.0327 - acc: 0.9865 - val_loss: 0.0565 - val_acc: 0.9781\n",
      "Epoch 6/15\n",
      "65/65 [==============================] - 56s - loss: 0.0309 - acc: 0.9881 - val_loss: 0.1840 - val_acc: 0.9430\n",
      "Epoch 7/15\n",
      "65/65 [==============================] - 56s - loss: 0.0312 - acc: 0.9889 - val_loss: 0.0937 - val_acc: 0.9649\n",
      "Epoch 8/15\n",
      "65/65 [==============================] - 56s - loss: 0.0364 - acc: 0.9877 - val_loss: 0.0836 - val_acc: 0.9693\n",
      "Epoch 9/15\n",
      "65/65 [==============================] - 56s - loss: 0.0297 - acc: 0.9894 - val_loss: 0.1514 - val_acc: 0.9693\n",
      "Epoch 10/15\n",
      "65/65 [==============================] - 56s - loss: 0.0359 - acc: 0.9861 - val_loss: 0.1304 - val_acc: 0.9605\n",
      "Epoch 11/15\n",
      "65/65 [==============================] - 55s - loss: 0.0311 - acc: 0.9923 - val_loss: 0.1451 - val_acc: 0.9518\n",
      "Epoch 12/15\n",
      "65/65 [==============================] - 56s - loss: 0.0343 - acc: 0.9861 - val_loss: 0.1264 - val_acc: 0.9605\n",
      "Epoch 13/15\n",
      "65/65 [==============================] - 56s - loss: 0.0273 - acc: 0.9889 - val_loss: 0.1004 - val_acc: 0.9561\n",
      "Epoch 14/15\n",
      "65/65 [==============================] - 56s - loss: 0.0301 - acc: 0.9909 - val_loss: 0.1464 - val_acc: 0.9649\n",
      "Epoch 15/15\n",
      "65/65 [==============================] - 56s - loss: 0.0278 - acc: 0.9894 - val_loss: 0.1238 - val_acc: 0.9737\n"
     ]
    },
    {
     "data": {
      "text/plain": [
       "<keras.callbacks.History at 0x7f68418eba90>"
      ]
     },
     "execution_count": 19,
     "metadata": {},
     "output_type": "execute_result"
    }
   ],
   "source": [
    "model.fit_generator(batches, math.ceil(batches.samples/batch_size), \n",
    "                    epochs=15, validation_data=valid_batches, \n",
    "                    validation_steps=math.ceil(valid_batches.samples/batch_size))"
   ]
  },
  {
   "cell_type": "code",
   "execution_count": 20,
   "metadata": {
    "collapsed": true
   },
   "outputs": [],
   "source": [
    "for layer in model.layers[100:]:\n",
    "    layer.trainable = True"
   ]
  },
  {
   "cell_type": "code",
   "execution_count": 21,
   "metadata": {},
   "outputs": [
    {
     "name": "stdout",
     "output_type": "stream",
     "text": [
      "Epoch 1/15\n",
      "65/65 [==============================] - 63s - loss: 0.0228 - acc: 0.9913 - val_loss: 0.1634 - val_acc: 0.9474\n",
      "Epoch 2/15\n",
      "65/65 [==============================] - 56s - loss: 0.0298 - acc: 0.9885 - val_loss: 0.0849 - val_acc: 0.9737\n",
      "Epoch 3/15\n",
      "65/65 [==============================] - 56s - loss: 0.0265 - acc: 0.9928 - val_loss: 0.1849 - val_acc: 0.9561\n",
      "Epoch 4/15\n",
      "65/65 [==============================] - 56s - loss: 0.0313 - acc: 0.9896 - val_loss: 0.1393 - val_acc: 0.9518\n",
      "Epoch 5/15\n",
      "65/65 [==============================] - 56s - loss: 0.0297 - acc: 0.9899 - val_loss: 0.0742 - val_acc: 0.9737\n",
      "Epoch 6/15\n",
      "65/65 [==============================] - 56s - loss: 0.0246 - acc: 0.9913 - val_loss: 0.1490 - val_acc: 0.9649\n",
      "Epoch 7/15\n",
      "65/65 [==============================] - 56s - loss: 0.0327 - acc: 0.9891 - val_loss: 0.0898 - val_acc: 0.9781\n",
      "Epoch 8/15\n",
      "65/65 [==============================] - 56s - loss: 0.0325 - acc: 0.9865 - val_loss: 0.1358 - val_acc: 0.9605\n",
      "Epoch 9/15\n",
      "65/65 [==============================] - 56s - loss: 0.0218 - acc: 0.9918 - val_loss: 0.1179 - val_acc: 0.9430\n",
      "Epoch 10/15\n",
      "65/65 [==============================] - 56s - loss: 0.0244 - acc: 0.9925 - val_loss: 0.1005 - val_acc: 0.9693\n",
      "Epoch 11/15\n",
      "65/65 [==============================] - 56s - loss: 0.0283 - acc: 0.9899 - val_loss: 0.0722 - val_acc: 0.9693\n",
      "Epoch 12/15\n",
      "65/65 [==============================] - 56s - loss: 0.0256 - acc: 0.9893 - val_loss: 0.1107 - val_acc: 0.9737\n",
      "Epoch 13/15\n",
      "65/65 [==============================] - 56s - loss: 0.0230 - acc: 0.9913 - val_loss: 0.1540 - val_acc: 0.9518\n",
      "Epoch 14/15\n",
      "65/65 [==============================] - 56s - loss: 0.0338 - acc: 0.9870 - val_loss: 0.1157 - val_acc: 0.9605\n",
      "Epoch 15/15\n",
      "65/65 [==============================] - 56s - loss: 0.0279 - acc: 0.9902 - val_loss: 0.1192 - val_acc: 0.9737\n"
     ]
    },
    {
     "data": {
      "text/plain": [
       "<keras.callbacks.History at 0x7f68418ebda0>"
      ]
     },
     "execution_count": 21,
     "metadata": {},
     "output_type": "execute_result"
    }
   ],
   "source": [
    "model.fit_generator(batches, math.ceil(batches.samples/batch_size), \n",
    "                    epochs=15, validation_data=valid_batches, \n",
    "                    validation_steps=math.ceil(valid_batches.samples/batch_size))"
   ]
  },
  {
   "cell_type": "code",
   "execution_count": 22,
   "metadata": {
    "collapsed": true
   },
   "outputs": [],
   "source": [
    "model.save_weights(path + 'inception.h5')"
   ]
  },
  {
   "cell_type": "code",
   "execution_count": 23,
   "metadata": {
    "collapsed": true
   },
   "outputs": [],
   "source": [
    "for layer in model.layers[0:]:\n",
    "    layer.trainable = True"
   ]
  },
  {
   "cell_type": "code",
   "execution_count": 24,
   "metadata": {},
   "outputs": [
    {
     "name": "stdout",
     "output_type": "stream",
     "text": [
      "Epoch 1/15\n",
      "65/65 [==============================] - 64s - loss: 0.0320 - acc: 0.9889 - val_loss: 0.1069 - val_acc: 0.9649\n",
      "Epoch 2/15\n",
      "65/65 [==============================] - 56s - loss: 0.0182 - acc: 0.9937 - val_loss: 0.1034 - val_acc: 0.9649\n",
      "Epoch 3/15\n",
      "65/65 [==============================] - 56s - loss: 0.0271 - acc: 0.9881 - val_loss: 0.1257 - val_acc: 0.9649\n",
      "Epoch 4/15\n",
      "65/65 [==============================] - 56s - loss: 0.0257 - acc: 0.9913 - val_loss: 0.1311 - val_acc: 0.9649\n",
      "Epoch 5/15\n",
      "65/65 [==============================] - 56s - loss: 0.0168 - acc: 0.9952 - val_loss: 0.1407 - val_acc: 0.9561\n",
      "Epoch 6/15\n",
      "65/65 [==============================] - 56s - loss: 0.0255 - acc: 0.9933 - val_loss: 0.0890 - val_acc: 0.9781\n",
      "Epoch 7/15\n",
      "65/65 [==============================] - 56s - loss: 0.0202 - acc: 0.9925 - val_loss: 0.1324 - val_acc: 0.9693\n",
      "Epoch 8/15\n",
      "65/65 [==============================] - 56s - loss: 0.0240 - acc: 0.9894 - val_loss: 0.1278 - val_acc: 0.9737\n",
      "Epoch 9/15\n",
      "65/65 [==============================] - 56s - loss: 0.0227 - acc: 0.9920 - val_loss: 0.0945 - val_acc: 0.9737\n",
      "Epoch 10/15\n",
      "65/65 [==============================] - 56s - loss: 0.0289 - acc: 0.9894 - val_loss: 0.1074 - val_acc: 0.9561\n",
      "Epoch 11/15\n",
      "65/65 [==============================] - 56s - loss: 0.0270 - acc: 0.9885 - val_loss: 0.1898 - val_acc: 0.9561\n",
      "Epoch 12/15\n",
      "65/65 [==============================] - 56s - loss: 0.0209 - acc: 0.9942 - val_loss: 0.0959 - val_acc: 0.9693\n",
      "Epoch 13/15\n",
      "65/65 [==============================] - 56s - loss: 0.0230 - acc: 0.9909 - val_loss: 0.1635 - val_acc: 0.9605\n",
      "Epoch 14/15\n",
      "65/65 [==============================] - 56s - loss: 0.0223 - acc: 0.9905 - val_loss: 0.0948 - val_acc: 0.9649\n",
      "Epoch 15/15\n",
      "65/65 [==============================] - 56s - loss: 0.0337 - acc: 0.9880 - val_loss: 0.0939 - val_acc: 0.9737\n"
     ]
    },
    {
     "data": {
      "text/plain": [
       "<keras.callbacks.History at 0x7f68418e45f8>"
      ]
     },
     "execution_count": 24,
     "metadata": {},
     "output_type": "execute_result"
    }
   ],
   "source": [
    "model.fit_generator(batches, math.ceil(batches.samples/batch_size), \n",
    "                    epochs=15, validation_data=valid_batches, \n",
    "                    validation_steps=math.ceil(valid_batches.samples/batch_size))"
   ]
  },
  {
   "cell_type": "code",
   "execution_count": 25,
   "metadata": {
    "collapsed": true
   },
   "outputs": [],
   "source": [
    "model.save_weights(path + 'inception.h5')"
   ]
  },
  {
   "cell_type": "markdown",
   "metadata": {},
   "source": [
    "## Create submission"
   ]
  },
  {
   "cell_type": "code",
   "execution_count": null,
   "metadata": {
    "collapsed": true
   },
   "outputs": [],
   "source": [
    "import math\n",
    "import os\n",
    "import numpy as np\n",
    "from glob import glob"
   ]
  },
  {
   "cell_type": "code",
   "execution_count": null,
   "metadata": {},
   "outputs": [],
   "source": [
    "%cd data/test/\n",
    "%mkdir unknown/"
   ]
  },
  {
   "cell_type": "code",
   "execution_count": null,
   "metadata": {},
   "outputs": [],
   "source": [
    "g = glob('*.jpg')\n",
    "for img in g:\n",
    "    os.rename(img, 'unknown/' + img)"
   ]
  },
  {
   "cell_type": "code",
   "execution_count": null,
   "metadata": {},
   "outputs": [],
   "source": [
    "%cd ../.."
   ]
  },
  {
   "cell_type": "code",
   "execution_count": null,
   "metadata": {},
   "outputs": [],
   "source": [
    "test_batches = ImageDataGenerator().flow_from_directory(path + 'test', \n",
    "                                                        shuffle=False, \n",
    "                                                        batch_size=batch_size,\n",
    "                                                        class_mode=None,\n",
    "                                                        target_size=(300, 300))\n",
    "preds = model.predict_generator(test_batches, math.ceil(test_batches.samples/batch_size))\n",
    "filenames = test_batches.filenames\n",
    "indices = [name[8:name.find('.')] for name in filenames]"
   ]
  },
  {
   "cell_type": "code",
   "execution_count": null,
   "metadata": {},
   "outputs": [],
   "source": [
    "subm = np.stack([indices, preds[:,1]], axis=1)"
   ]
  },
  {
   "cell_type": "code",
   "execution_count": null,
   "metadata": {},
   "outputs": [],
   "source": [
    "np.savetxt('data/preds.csv', subm, header='name,invasive', comments='', fmt='%s,%s')"
   ]
  },
  {
   "cell_type": "code",
   "execution_count": null,
   "metadata": {
    "collapsed": true
   },
   "outputs": [],
   "source": []
  }
 ],
 "metadata": {
  "kernelspec": {
   "display_name": "Python 3",
   "language": "python",
   "name": "python3"
  },
  "language_info": {
   "codemirror_mode": {
    "name": "ipython",
    "version": 3
   },
   "file_extension": ".py",
   "mimetype": "text/x-python",
   "name": "python",
   "nbconvert_exporter": "python",
   "pygments_lexer": "ipython3",
   "version": "3.5.2"
  }
 },
 "nbformat": 4,
 "nbformat_minor": 2
}
